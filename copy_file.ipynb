{
 "cells": [
  {
   "cell_type": "code",
   "execution_count": 1,
   "id": "9ff38ce4-bf93-46d4-8768-4cefe618591a",
   "metadata": {},
   "outputs": [],
   "source": [
    "import shutil\n",
    "import os\n",
    "import uuid\n",
    "import pandas as pd"
   ]
  },
  {
   "cell_type": "code",
   "execution_count": 2,
   "id": "63c2ba74-2be8-497c-a01b-03285bae6c82",
   "metadata": {},
   "outputs": [
    {
     "data": {
      "text/html": [
       "<div>\n",
       "<style scoped>\n",
       "    .dataframe tbody tr th:only-of-type {\n",
       "        vertical-align: middle;\n",
       "    }\n",
       "\n",
       "    .dataframe tbody tr th {\n",
       "        vertical-align: top;\n",
       "    }\n",
       "\n",
       "    .dataframe thead th {\n",
       "        text-align: right;\n",
       "    }\n",
       "</style>\n",
       "<table border=\"1\" class=\"dataframe\">\n",
       "  <thead>\n",
       "    <tr style=\"text-align: right;\">\n",
       "      <th></th>\n",
       "      <th>path</th>\n",
       "      <th>target</th>\n",
       "    </tr>\n",
       "  </thead>\n",
       "  <tbody>\n",
       "    <tr>\n",
       "      <th>0</th>\n",
       "      <td>datasets/datasets/vencerlanz09/plastic-paper-g...</td>\n",
       "      <td>Flexible Plastic</td>\n",
       "    </tr>\n",
       "    <tr>\n",
       "      <th>1</th>\n",
       "      <td>datasets/datasets/vencerlanz09/plastic-paper-g...</td>\n",
       "      <td>Flexible Plastic</td>\n",
       "    </tr>\n",
       "    <tr>\n",
       "      <th>2</th>\n",
       "      <td>datasets/datasets/vencerlanz09/plastic-paper-g...</td>\n",
       "      <td>Flexible Plastic</td>\n",
       "    </tr>\n",
       "    <tr>\n",
       "      <th>3</th>\n",
       "      <td>datasets/datasets/vencerlanz09/plastic-paper-g...</td>\n",
       "      <td>Flexible Plastic</td>\n",
       "    </tr>\n",
       "    <tr>\n",
       "      <th>4</th>\n",
       "      <td>datasets/datasets/vencerlanz09/plastic-paper-g...</td>\n",
       "      <td>Flexible Plastic</td>\n",
       "    </tr>\n",
       "  </tbody>\n",
       "</table>\n",
       "</div>"
      ],
      "text/plain": [
       "                                                path            target\n",
       "0  datasets/datasets/vencerlanz09/plastic-paper-g...  Flexible Plastic\n",
       "1  datasets/datasets/vencerlanz09/plastic-paper-g...  Flexible Plastic\n",
       "2  datasets/datasets/vencerlanz09/plastic-paper-g...  Flexible Plastic\n",
       "3  datasets/datasets/vencerlanz09/plastic-paper-g...  Flexible Plastic\n",
       "4  datasets/datasets/vencerlanz09/plastic-paper-g...  Flexible Plastic"
      ]
     },
     "execution_count": 2,
     "metadata": {},
     "output_type": "execute_result"
    }
   ],
   "source": [
    "df = pd.read_csv(\"./balanced_dataset.csv\")\n",
    "df.head()"
   ]
  },
  {
   "cell_type": "code",
   "execution_count": 3,
   "id": "31270efb-153e-44a4-a852-a7f4733f0058",
   "metadata": {},
   "outputs": [],
   "source": [
    "df['target'] = df['target'].apply(lambda x: x.lower().replace(\" \", \"_\"))"
   ]
  },
  {
   "cell_type": "code",
   "execution_count": 4,
   "id": "52191c11-7d99-4855-b592-f27ca86ebd21",
   "metadata": {
    "scrolled": true
   },
   "outputs": [],
   "source": [
    "for row in df.iterrows():\n",
    "    target = row[1]['target']\n",
    "    path_image = row[1]['path']\n",
    "    \n",
    "    dest_file_name = f\"selected/{target}/{target}_{uuid.uuid4()}.jpg\"\n",
    "    os.makedirs(os.path.dirname(dest_file_name), exist_ok=True)\n",
    "    shutil.copy(path_image, dest_file_name)\n",
    "    \n",
    "    "
   ]
  }
 ],
 "metadata": {
  "kernelspec": {
   "display_name": "Python 3 (ipykernel)",
   "language": "python",
   "name": "python3"
  },
  "language_info": {
   "codemirror_mode": {
    "name": "ipython",
    "version": 3
   },
   "file_extension": ".py",
   "mimetype": "text/x-python",
   "name": "python",
   "nbconvert_exporter": "python",
   "pygments_lexer": "ipython3",
   "version": "3.12.11"
  }
 },
 "nbformat": 4,
 "nbformat_minor": 5
}
